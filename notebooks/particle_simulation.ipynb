{
 "cells": [
  {
   "cell_type": "markdown",
   "id": "7968866b-24b8-4ed6-bc13-6035310cb4f5",
   "metadata": {},
   "source": [
    "[![nbviewer](https://raw.githubusercontent.com/jupyter/design/master/logos/Badges/nbviewer_badge.svg)](https://nbviewer.jupyter.org/github/open-atmos/PyPartMC-examples/blob/main/notebooks/particle_simulation.ipynb)   \n",
    "[![Open In Colab](https://colab.research.google.com/assets/colab-badge.svg)](https://colab.research.google.com/github/open-atmos/PyPartMC-examples/blob/main/notebooks/particle_simulation.ipynb)    \n",
    "[![Binder](https://mybinder.org/badge_logo.svg)](https://mybinder.org/v2/gh/open-atmos/PyPartMC-examples.git/main?urlpath=lab/tree/notebooks/particle_simulation.ipynb)"
   ]
  },
  {
   "cell_type": "code",
   "execution_count": 1,
   "id": "159edeb4",
   "metadata": {},
   "outputs": [],
   "source": [
    "# This file is a part of PyPartMC licensed under the GNU General Public License v3\n",
    "# Copyright (C) 2023 University of Illinois Urbana-Champaign\n",
    "# Authors:\n",
    "#  - https://github.com/compdyn/partmc/graphs/contributors\n",
    "#  - https://github.com/open-atmos/PyPartMC/graphs/contributors"
   ]
  },
  {
   "cell_type": "code",
   "execution_count": 2,
   "id": "4f8359c2",
   "metadata": {},
   "outputs": [],
   "source": [
    "import sys\n",
    "\n",
    "if \"google.colab\" in sys.modules:\n",
    "    !pip --verbose install PyPartMC"
   ]
  },
  {
   "cell_type": "code",
   "execution_count": 3,
   "id": "b494ea6e",
   "metadata": {},
   "outputs": [],
   "source": [
    "import PyPartMC as ppmc\n",
    "from PyPartMC import si\n",
    "import numpy as np\n",
    "import matplotlib.pyplot as plt\n",
    "import matplotlib"
   ]
  },
  {
   "cell_type": "code",
   "execution_count": 4,
   "id": "df8d1a84",
   "metadata": {},
   "outputs": [],
   "source": [
    "gas_data = ppmc.GasData((\"H2SO4\", \"HNO3\", \"HCl\", \"NH3\", \"NO\", \"NO2\"))"
   ]
  },
  {
   "cell_type": "code",
   "execution_count": 5,
   "id": "a2d7bad8",
   "metadata": {},
   "outputs": [],
   "source": [
    "env_state = ppmc.EnvState(\n",
    "    {\n",
    "        \"rel_humidity\": 0.95,\n",
    "        \"latitude\": 0,\n",
    "        \"longitude\": 0,\n",
    "        \"altitude\": 0 * si.m,\n",
    "        \"start_time\": 81000 * si.s,\n",
    "        \"start_day\": 200,\n",
    "    }\n",
    ")"
   ]
  },
  {
   "cell_type": "code",
   "execution_count": 6,
   "id": "815283a0",
   "metadata": {},
   "outputs": [],
   "source": [
    "aero_data = ppmc.AeroData(\n",
    "    (\n",
    "        #         density  ions in soln (1) molecular weight    kappa (1)\n",
    "        #         |                     |   |                   |\n",
    "        {\"SO4\": [1800 * si.kg / si.m**3, 1, 96.0 * si.g / si.mol, 0.00]},\n",
    "        {\"NO3\": [1800 * si.kg / si.m**3, 1, 62.0 * si.g / si.mol, 0.00]},\n",
    "        {\"Cl\": [2200 * si.kg / si.m**3, 1, 35.5 * si.g / si.mol, 0.00]},\n",
    "        {\"NH4\": [1800 * si.kg / si.m**3, 1, 18.0 * si.g / si.mol, 0.00]},\n",
    "        {\"MSA\": [1800 * si.kg / si.m**3, 0, 95.0 * si.g / si.mol, 0.53]},\n",
    "        {\"ARO1\": [1400 * si.kg / si.m**3, 0, 150.0 * si.g / si.mol, 0.10]},\n",
    "        {\"ARO2\": [1400 * si.kg / si.m**3, 0, 150.0 * si.g / si.mol, 0.10]},\n",
    "        {\"ALK1\": [1400 * si.kg / si.m**3, 0, 140.0 * si.g / si.mol, 0.10]},\n",
    "        {\"OLE1\": [1400 * si.kg / si.m**3, 0, 140.0 * si.g / si.mol, 0.10]},\n",
    "        {\"API1\": [1400 * si.kg / si.m**3, 0, 184.0 * si.g / si.mol, 0.10]},\n",
    "        {\"API2\": [1400 * si.kg / si.m**3, 0, 184.0 * si.g / si.mol, 0.10]},\n",
    "        {\"LIM1\": [1400 * si.kg / si.m**3, 0, 200.0 * si.g / si.mol, 0.10]},\n",
    "        {\"LIM2\": [1400 * si.kg / si.m**3, 0, 200.0 * si.g / si.mol, 0.10]},\n",
    "        {\"CO3\": [2600 * si.kg / si.m**3, 1, 60.0 * si.g / si.mol, 0.00]},\n",
    "        {\"Na\": [2200 * si.kg / si.m**3, 1, 23.0 * si.g / si.mol, 0.00]},\n",
    "        {\"Ca\": [2600 * si.kg / si.m**3, 1, 40.0 * si.g / si.mol, 0.00]},\n",
    "        {\"OIN\": [2600 * si.kg / si.m**3, 0, 1.0 * si.g / si.mol, 0.10]},\n",
    "        {\"OC\": [1400 * si.kg / si.m**3, 0, 1.0 * si.g / si.mol, 0.10]},\n",
    "        {\"BC\": [1800 * si.kg / si.m**3, 0, 1.0 * si.g / si.mol, 0.00]},\n",
    "        {\"H2O\": [1000 * si.kg / si.m**3, 0, 18.0 * si.g / si.mol, 0.00]},\n",
    "    )\n",
    ")"
   ]
  },
  {
   "cell_type": "code",
   "execution_count": 7,
   "id": "eedd8346",
   "metadata": {},
   "outputs": [],
   "source": [
    "gas_state = ppmc.GasState(gas_data)\n",
    "\n",
    "input_gas_state = (\n",
    "    {\"H2SO4\": [0.1]},\n",
    "    {\"HNO3\": [0.2]},\n",
    "    {\"HCl\": [0.3]},\n",
    "    {\"NH3\": [0.5]},\n",
    "    {\"NO\": [0.4]},\n",
    "    {\"NO2\": [0.1]},\n",
    ")\n",
    "gas_state.mix_rats = input_gas_state"
   ]
  },
  {
   "cell_type": "code",
   "execution_count": 8,
   "id": "58706963",
   "metadata": {},
   "outputs": [],
   "source": [
    "times = [0 * si.s, 12 * 3600 * si.s]\n",
    "back_gas = [{\"time\": times}, {\"rate\": [0 / si.s, 0 / si.s]}, {}]\n",
    "emit_gas = [\n",
    "    {\"time\": times},\n",
    "    {\"rate\": [1 / si.s, 0 / si.s]},\n",
    "    {\"NO\": [1e-9, 1e-9]},\n",
    "    {\"NO2\": [2e-9, 2e-9]},\n",
    "]\n",
    "\n",
    "AERO_DIST_BACKGROUND = {\n",
    "    \"back_small\": {\n",
    "        \"mass_frac\": [{\"SO4\": [1]}],\n",
    "        \"diam_type\": \"geometric\",\n",
    "        \"mode_type\": \"log_normal\",\n",
    "        \"num_conc\": 3.2e9 / si.m**3,\n",
    "        \"geom_mean_diam\": 0.02 * si.um,\n",
    "        \"log10_geom_std_dev\": 0.161,\n",
    "    },\n",
    "    \"back_large\": {\n",
    "        \"mass_frac\": [{\"SO4\": [1]}],\n",
    "        \"diam_type\": \"geometric\",\n",
    "        \"mode_type\": \"log_normal\",\n",
    "        \"num_conc\": 2.9e9 / si.m**3,\n",
    "        \"geom_mean_diam\": 0.16 * si.um,\n",
    "        \"log10_geom_std_dev\": 0.217,\n",
    "    },\n",
    "}\n",
    "\n",
    "AERO_DIST_EMIT = {\n",
    "    \"gasoline\": {\n",
    "        \"mass_frac\": [{\"OC\": [0.8]}, {\"BC\": [0.2]}],\n",
    "        \"diam_type\": \"geometric\",\n",
    "        \"mode_type\": \"log_normal\",\n",
    "        \"num_conc\": 5e7 / si.m**3,\n",
    "        \"geom_mean_diam\": 5e-8 * si.m,\n",
    "        \"log10_geom_std_dev\": 0.24,\n",
    "    },\n",
    "    \"diesel\": {\n",
    "        \"mass_frac\": [{\"OC\": [0.3]}, {\"BC\": [0.7]}],\n",
    "        \"diam_type\": \"geometric\",\n",
    "        \"mode_type\": \"log_normal\",\n",
    "        \"num_conc\": 1.6e8 / si.m**3,\n",
    "        \"geom_mean_diam\": 5e-8 * si.m,\n",
    "        \"log10_geom_std_dev\": 0.24,\n",
    "    },\n",
    "    \"cooking\": {\n",
    "        \"mass_frac\": [{\"OC\": [0.1]}],\n",
    "        \"diam_type\": \"geometric\",\n",
    "        \"mode_type\": \"log_normal\",\n",
    "        \"num_conc\": 9e6 / si.m**3,\n",
    "        \"geom_mean_diam\": 8.64e-8 * si.m,\n",
    "        \"log10_geom_std_dev\": 0.28,\n",
    "    },\n",
    "}"
   ]
  },
  {
   "cell_type": "code",
   "execution_count": 9,
   "id": "920e41e3",
   "metadata": {},
   "outputs": [],
   "source": [
    "scenario = ppmc.Scenario(\n",
    "    gas_data,\n",
    "    aero_data,\n",
    "    {\n",
    "        \"temp_profile\": [{\"time\": times}, {\"temp\": [290 * si.K, 290 * si.K]}],\n",
    "        \"pressure_profile\": [\n",
    "            {\"time\": times},\n",
    "            {\"pressure\": [1000 * si.hPa, 1000 * si.hPa]},\n",
    "        ],\n",
    "        \"height_profile\": [{\"time\": times}, {\"height\": [200 * si.m, 200 * si.m]}],\n",
    "        \"gas_emissions\": emit_gas,\n",
    "        \"gas_background\": back_gas,\n",
    "        \"aero_emissions\": [\n",
    "            {\"time\": [0 * si.s]},\n",
    "            {\"rate\": [1 / si.s]},\n",
    "            {\"dist\": [AERO_DIST_EMIT]},\n",
    "        ],\n",
    "        \"aero_background\": [\n",
    "            {\"time\": [0 * si.s]},\n",
    "            {\"rate\": [0 / si.s]},\n",
    "            {\"dist\": [AERO_DIST_BACKGROUND]},\n",
    "        ],\n",
    "        \"loss_function\": \"none\",\n",
    "    },\n",
    ")"
   ]
  },
  {
   "cell_type": "code",
   "execution_count": 10,
   "id": "6722ba83",
   "metadata": {},
   "outputs": [],
   "source": [
    "T_INITIAL = 0.0\n",
    "scenario.init_env_state(env_state, T_INITIAL)"
   ]
  },
  {
   "cell_type": "code",
   "execution_count": 11,
   "id": "9781ca2f",
   "metadata": {},
   "outputs": [],
   "source": [
    "AERO_DIST_INIT = [\n",
    "    {\n",
    "        \"init_small\": {\n",
    "            \"mass_frac\": [{\"SO4\": [1]}, {\"OC\": [1.375]}, {\"NH4\": [0.375]}],\n",
    "            \"diam_type\": \"geometric\",\n",
    "            \"mode_type\": \"log_normal\",\n",
    "            \"num_conc\": 3.2e9 / si.m**3,\n",
    "            \"geom_mean_diam\": 0.02 * si.um,\n",
    "            \"log10_geom_std_dev\": 0.161,\n",
    "        },\n",
    "        \"init_large\": {\n",
    "            \"mass_frac\": [{\"SO4\": [1]}, {\"OC\": [1.375]}, {\"NH4\": [0.375]}],\n",
    "            \"diam_type\": \"geometric\",\n",
    "            \"mode_type\": \"log_normal\",\n",
    "            \"num_conc\": 2.9e9 / si.m**3,\n",
    "            \"geom_mean_diam\": 0.16 * si.um,\n",
    "            \"log10_geom_std_dev\": 0.217,\n",
    "        },\n",
    "    }\n",
    "]\n",
    "\n",
    "aero_dist_init = ppmc.AeroDist(aero_data, AERO_DIST_INIT)"
   ]
  },
  {
   "cell_type": "code",
   "execution_count": 12,
   "id": "28ad8dc0-a23a-440c-b900-4e33bd23d48a",
   "metadata": {},
   "outputs": [
    {
     "data": {
      "text/plain": [
       "287"
      ]
     },
     "execution_count": 12,
     "metadata": {},
     "output_type": "execute_result"
    }
   ],
   "source": [
    "N_PART = 1000\n",
    "aero_state = ppmc.AeroState(N_PART, aero_data)\n",
    "aero_state.dist_sample(\n",
    "    aero_dist_init,\n",
    "    sample_prop=1.0,\n",
    "    create_time=0.0,\n",
    "    allow_doubling=True,\n",
    "    allow_halving=True,\n",
    ")"
   ]
  },
  {
   "cell_type": "code",
   "execution_count": 13,
   "id": "d8d9c8fd",
   "metadata": {},
   "outputs": [],
   "source": [
    "run_part_opt = ppmc.RunPartOpt(\n",
    "    {\n",
    "        \"do_coagulation\": True,\n",
    "        \"coag_kernel\": \"brown\",\n",
    "        \"do_parallel\": False,\n",
    "        \"do_nucleation\": False,\n",
    "        \"do_camp_chem\": False,\n",
    "        \"do_condensation\": False,\n",
    "        \"t_max\": 86400 * si.s,\n",
    "        \"del_t\": 60 * si.s,\n",
    "        \"t_output\": 0,\n",
    "        \"t_progress\": 0,\n",
    "        \"allow_halving\": True,\n",
    "        \"allow_doubling\": True,\n",
    "        \"rand_init\": 0,\n",
    "    }\n",
    ")"
   ]
  },
  {
   "cell_type": "code",
   "execution_count": 14,
   "id": "5c8aef2b",
   "metadata": {},
   "outputs": [],
   "source": [
    "camp_core = ppmc.CampCore()\n",
    "photolysis = ppmc.Photolysis()"
   ]
  },
  {
   "cell_type": "code",
   "execution_count": 15,
   "id": "0f7c29fe",
   "metadata": {},
   "outputs": [],
   "source": [
    "N_STEPS = int(run_part_opt.t_max / run_part_opt.del_t)\n",
    "num_conc = np.zeros(N_STEPS + 1)\n",
    "num_conc[0] = aero_state.total_num_conc\n",
    "mass_conc = np.zeros(N_STEPS + 1)\n",
    "mass_conc[0] = aero_state.total_mass_conc\n",
    "time = np.zeros(N_STEPS + 1)\n",
    "gas_mix_rat = np.zeros((N_STEPS + 1, gas_state.n_spec))\n",
    "gas_mix_rat[0, :] = gas_state.mix_rats\n",
    "\n",
    "for i_time in range(1, N_STEPS + 1):\n",
    "    ppmc.run_part_timestep(\n",
    "        scenario,\n",
    "        env_state,\n",
    "        aero_data,\n",
    "        aero_state,\n",
    "        gas_data,\n",
    "        gas_state,\n",
    "        run_part_opt,\n",
    "        camp_core,\n",
    "        photolysis,\n",
    "        i_time,\n",
    "        T_INITIAL,\n",
    "    )\n",
    "    num_conc[i_time] = aero_state.total_num_conc\n",
    "    mass_conc[i_time] = aero_state.total_mass_conc\n",
    "    time[i_time] = env_state.elapsed_time\n",
    "    gas_mix_rat[i_time, :] = gas_state.mix_rats"
   ]
  },
  {
   "cell_type": "code",
   "execution_count": 16,
   "id": "8e1b89e0",
   "metadata": {},
   "outputs": [
    {
     "data": {
      "image/png": "[encoded data removed]",
      "text/plain": [
       "<Figure size 640x480 with 2 Axes>"
      ]
     },
     "metadata": {},
     "output_type": "display_data"
    }
   ],
   "source": [
    "plt.plot(time, mass_conc, \"b\", label=\"mass conc\")\n",
    "plt.ylabel(\"mass concentration\")\n",
    "plt.xlabel(\"time (s)\")\n",
    "plt.twinx()\n",
    "plt.plot(time, num_conc, \"g\", label=\"num conc\")\n",
    "plt.ylabel(\"number concentration\");"
   ]
  },
  {
   "cell_type": "code",
   "execution_count": 19,
   "id": "386aa7c2",
   "metadata": {},
   "outputs": [
    {
     "data": {
      "image/png": "[encoded data removed]",
      "text/plain": [
       "<Figure size 640x480 with 1 Axes>"
      ]
     },
     "metadata": {},
     "output_type": "display_data"
    }
   ],
   "source": [
    "gases = [\"NO\", \"NO2\"]\n",
    "for i_spec, spec in enumerate(gases):\n",
    "    i_spec = gas_data.spec_by_name(spec)\n",
    "    plt.plot(time, gas_mix_rat[:, i_spec], label=spec)\n",
    "plt.xlabel(\"time (s)\")\n",
    "plt.ylabel(\"mixing ratio (ppb)\")\n",
    "plt.xticks(np.linspace(0, time[-1], 5))\n",
    "plt.legend();"
   ]
  },
  {
   "cell_type": "code",
   "execution_count": null,
   "id": "faa1de28",
   "metadata": {},
   "outputs": [],
   "source": [
    "diam_grid = ppmc.BinGrid(60, \"log\", 1e-9, 1e-6)\n",
    "dry_diameters = aero_state.dry_diameters\n",
    "num_concs = aero_state.num_concs\n",
    "dist = ppmc.histogram_1d(diam_grid, dry_diameters, num_concs)\n",
    "plt.plot(diam_grid.centers, dist)\n",
    "plt.xscale(\"log\")\n",
    "plt.xlabel(\"dry diameter (m)\")\n",
    "plt.ylim(bottom=0)\n",
    "bins = np.logspace(-9, -6, 61, base=10)\n",
    "plt.hist(dry_diameters, bins=bins, weights=num_concs / np.log(bins[1] / bins[0]));"
   ]
  },
  {
   "cell_type": "code",
   "execution_count": null,
   "id": "7015860b",
   "metadata": {},
   "outputs": [],
   "source": [
    "mass_frac_grid = ppmc.BinGrid(100, \"linear\", 0, 1)\n",
    "mass_frac_histogram = []\n",
    "num_concs = aero_state.num_concs\n",
    "dry_diameters = aero_state.dry_diameters\n",
    "species_mass_frac = np.zeros(len(aero_state))\n",
    "species_index = aero_data.spec_by_name(\"BC\")\n",
    "for i_part in range(len(aero_state)):\n",
    "    particle = aero_state.particle(i_part)\n",
    "    masses = particle.species_masses\n",
    "    species_mass_frac[i_part] = masses[species_index] / np.sum(masses[0:19])\n",
    "vals = ppmc.histogram_2d(\n",
    "    diam_grid, dry_diameters, mass_frac_grid, species_mass_frac, num_concs\n",
    ")"
   ]
  },
  {
   "cell_type": "code",
   "execution_count": null,
   "id": "07fabfba",
   "metadata": {},
   "outputs": [],
   "source": [
    "plt.pcolormesh(\n",
    "    diam_grid.edges,\n",
    "    mass_frac_grid.edges,\n",
    "    np.array(vals).T / 1e6,\n",
    "    norm=matplotlib.colors.LogNorm(),\n",
    ")\n",
    "plt.xscale(\"log\")\n",
    "plt.xlim([1e-8, 1e-6])\n",
    "plt.colorbar(label=\"Number concentration (# cm$^{-3}$)\")\n",
    "plt.xlabel(\"Dry diameter (m)\")\n",
    "plt.ylabel(\"OC mass fraction\")\n",
    "plt.grid();"
   ]
  },
  {
   "cell_type": "code",
   "execution_count": null,
   "id": "9ddfed15",
   "metadata": {},
   "outputs": [],
   "source": []
  }
 ],
 "metadata": {
  "kernelspec": {
   "display_name": "Python 3 (ipykernel)",
   "language": "python",
   "name": "python3"
  },
  "language_info": {
   "codemirror_mode": {
    "name": "ipython",
    "version": 3
   },
   "file_extension": ".py",
   "mimetype": "text/x-python",
   "name": "python",
   "nbconvert_exporter": "python",
   "pygments_lexer": "ipython3",
   "version": "3.11.3"
  }
 },
 "nbformat": 4,
 "nbformat_minor": 5
}
