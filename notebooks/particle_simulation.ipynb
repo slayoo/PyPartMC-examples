{
 "cells": [
  {
   "cell_type": "markdown",
   "id": "ff0bd010",
   "metadata": {},
   "source": [
    "[![nbviewer](https://raw.githubusercontent.com/jupyter/design/master/logos/Badges/nbviewer_badge.svg)](https://nbviewer.jupyter.org/github/open-atmos/PyPartMC-examples/blob/main/notebooks/condense.ipynb)   \n",
    "[![Open In Colab](https://colab.research.google.com/assets/colab-badge.svg)](https://colab.research.google.com/github/open-atmos/PyPartMC-examples/blob/main/notebooks/condense.ipynb)    \n",
    "[![Binder](https://mybinder.org/badge_logo.svg)](https://mybinder.org/v2/gh/open-atmos/PyPartMC-examples.git/main?urlpath=lab/tree/notebooks/condense.ipynb)"
   ]
  },
  {
   "cell_type": "code",
   "execution_count": null,
   "id": "159edeb4",
   "metadata": {},
   "outputs": [],
   "source": [
    "# This file is a part of PyPartMC licensed under the GNU General Public License v3\n",
    "# Copyright (C) 2023 University of Illinois Urbana-Champaign\n",
    "# Authors:\n",
    "#  - https://github.com/compdyn/partmc/graphs/contributors\n",
    "#  - https://github.com/open-atmos/PyPartMC/graphs/contributors"
   ]
  },
  {
   "cell_type": "code",
   "execution_count": null,
   "id": "4f8359c2",
   "metadata": {},
   "outputs": [],
   "source": [
    "import sys\n",
    "if 'google.colab' in sys.modules:\n",
    "    !pip --verbose install PyPartMC"
   ]
  },
  {
   "cell_type": "code",
   "execution_count": null,
   "id": "b494ea6e",
   "metadata": {},
   "outputs": [],
   "source": [
    "import PyPartMC as ppmc\n",
    "from PyPartMC import si\n",
    "import numpy as np\n",
    "import matplotlib.pyplot as plt"
   ]
  },
  {
   "cell_type": "code",
   "execution_count": null,
   "id": "df8d1a84",
   "metadata": {},
   "outputs": [],
   "source": [
    "gas_data = ppmc.GasData(\n",
    "    (\"H2SO4\", \"HNO3\", \"HCl\", \"NH3\", \"NO\", \"NO2\")\n",
    ")"
   ]
  },
  {
   "cell_type": "code",
   "execution_count": null,
   "id": "a2d7bad8",
   "metadata": {},
   "outputs": [],
   "source": [
    "env_state = ppmc.EnvState({\n",
    "    \"rel_humidity\": 0.95,\n",
    "    \"latitude\": 0,\n",
    "    \"longitude\": 0,\n",
    "    \"altitude\": 0 * si.m,\n",
    "    \"start_time\": 81000 * si.s,\n",
    "    \"start_day\": 200\n",
    "})"
   ]
  },
  {
   "cell_type": "code",
   "execution_count": null,
   "id": "815283a0",
   "metadata": {},
   "outputs": [],
   "source": [
    "aero_data = ppmc.AeroData((\n",
    "    #         density  ions in soln (1) molecular weight    kappa (1)\n",
    "    #         |                     |   |                   |\n",
    "    {\"SO4\":  [1800 * si.kg/si.m**3, 1,  96.0 * si.g/si.mol, 0.00]},\n",
    "    {\"NO3\":  [1800 * si.kg/si.m**3, 1,  62.0 * si.g/si.mol, 0.00]},\n",
    "    {\"Cl\":   [2200 * si.kg/si.m**3, 1,  35.5 * si.g/si.mol, 0.00]},\n",
    "    {\"NH4\":  [1800 * si.kg/si.m**3, 1,  18.0 * si.g/si.mol, 0.00]},\n",
    "    {\"MSA\":  [1800 * si.kg/si.m**3, 0,  95.0 * si.g/si.mol, 0.53]},\n",
    "    {\"ARO1\": [1400 * si.kg/si.m**3, 0, 150.0 * si.g/si.mol, 0.10]},\n",
    "    {\"ARO2\": [1400 * si.kg/si.m**3, 0, 150.0 * si.g/si.mol, 0.10]},\n",
    "    {\"ALK1\": [1400 * si.kg/si.m**3, 0, 140.0 * si.g/si.mol, 0.10]},\n",
    "    {\"OLE1\": [1400 * si.kg/si.m**3, 0, 140.0 * si.g/si.mol, 0.10]},\n",
    "    {\"API1\": [1400 * si.kg/si.m**3, 0, 184.0 * si.g/si.mol, 0.10]},\n",
    "    {\"API2\": [1400 * si.kg/si.m**3, 0, 184.0 * si.g/si.mol, 0.10]},\n",
    "    {\"LIM1\": [1400 * si.kg/si.m**3, 0, 200.0 * si.g/si.mol, 0.10]},\n",
    "    {\"LIM2\": [1400 * si.kg/si.m**3, 0, 200.0 * si.g/si.mol, 0.10]},\n",
    "    {\"CO3\":  [2600 * si.kg/si.m**3, 1,  60.0 * si.g/si.mol, 0.00]},\n",
    "    {\"Na\":   [2200 * si.kg/si.m**3, 1,  23.0 * si.g/si.mol, 0.00]},\n",
    "    {\"Ca\":   [2600 * si.kg/si.m**3, 1,  40.0 * si.g/si.mol, 0.00]},\n",
    "    {\"OIN\":  [2600 * si.kg/si.m**3, 0,   1.0 * si.g/si.mol, 0.10]},\n",
    "    {\"OC\":   [1400 * si.kg/si.m**3, 0,   1.0 * si.g/si.mol, 0.10]},\n",
    "    {\"BC\":   [1800 * si.kg/si.m**3, 0,   1.0 * si.g/si.mol, 0.00]},\n",
    "    {\"H2O\":  [1000 * si.kg/si.m**3, 0,  18.0 * si.g/si.mol, 0.00]}\n",
    "))"
   ]
  },
  {
   "cell_type": "code",
   "execution_count": null,
   "id": "eedd8346",
   "metadata": {},
   "outputs": [],
   "source": [
    "gas_state = ppmc.GasState(gas_data)\n",
    "print(gas_state.mix_rats)"
   ]
  },
  {
   "cell_type": "code",
   "execution_count": null,
   "id": "58706963",
   "metadata": {},
   "outputs": [],
   "source": [
    "times = [0 * si.s, 12*3600 * si.s]\n",
    "rates = [1 / si.s, 1 / si.s]\n",
    "null_gas = [{\"time\": times}, {\"rate\": rates}, {}]\n",
    "\n",
    "AERO_MODE_CTOR_LOG_NORMAL = {\n",
    "    \"test_mode\": {\n",
    "        \"mass_frac\": [{\"OIN\": [.8]}, {\"OC\": [.1]},{\"LIM1\": [.1]}],\n",
    "        \"diam_type\": \"geometric\",\n",
    "        \"mode_type\": \"log_normal\",\n",
    "        \"num_conc\": 1000000 / si.m**3,\n",
    "        \"geom_mean_diam\": .2 * si.um,\n",
    "        \"log10_geom_std_dev\": np.log10(1.6),\n",
    "    }\n",
    "}\n",
    "\n",
    "scenario = ppmc.Scenario(gas_data, aero_data, {\n",
    "    \"temp_profile\": [\n",
    "        {\"time\": times},\n",
    "        {\"temp\": [290 * si.K, 290 * si.K]}\n",
    "    ],\n",
    "    \"pressure_profile\": [\n",
    "        {\"time\": times},\n",
    "        {\"pressure\": [1000 * si.hPa, 1000 * si.hPa]}\n",
    "    ],\n",
    "    \"height_profile\": [\n",
    "        {\"time\": times},\n",
    "        {\"height\": [200 * si.m, 200 * si.m]}\n",
    "    ],\n",
    "    \"gas_emissions\": null_gas,\n",
    "    \"gas_background\": null_gas,\n",
    "    \"aero_emissions\": [\n",
    "        {\"time\": [0 * si.s]},\n",
    "        {\"rate\": [1 / si.s]},\n",
    "        {\"dist\": [AERO_MODE_CTOR_LOG_NORMAL]},\n",
    "    ],\n",
    "    \"aero_background\": [\n",
    "        {\"time\": [0 * si.s]},\n",
    "        {\"rate\": [0e-8]},\n",
    "        {\"dist\": [AERO_MODE_CTOR_LOG_NORMAL]},\n",
    "    ],\n",
    "    \"loss_function\": \"none\"\n",
    "})"
   ]
  },
  {
   "cell_type": "code",
   "execution_count": null,
   "id": "d8d9c8fd",
   "metadata": {},
   "outputs": [],
   "source": [
    "run_part_opt = ppmc.RunPartOpt({\n",
    "    \"do_coagulation\": True,\n",
    "    \"coag_kernel\": \"brown\",\n",
    "    \"do_parallel\": False,\n",
    "    \"do_nucleation\": False,\n",
    "    \"do_camp_chem\": False,\n",
    "    \"do_condensation\": False,\n",
    "    \"t_max\": 86400 * si.s,\n",
    "    \"del_t\": 60 * si.s,\n",
    "    \"t_output\": 0,\n",
    "    \"t_progress\": 0,\n",
    "    \"allow_halving\": True,\n",
    "    \"allow_doubling\": True\n",
    "})"
   ]
  },
  {
   "cell_type": "code",
   "execution_count": null,
   "id": "5c8aef2b",
   "metadata": {},
   "outputs": [],
   "source": [
    "camp_core = ppmc.CampCore()\n",
    "photolysis = ppmc.Photolysis()"
   ]
  },
  {
   "cell_type": "code",
   "execution_count": null,
   "id": "0f7c29fe",
   "metadata": {},
   "outputs": [],
   "source": [
    "N_PART = 1000\n",
    "aero_state = ppmc.AeroState(N_PART, aero_data)\n",
    "t_initial = 0.0\n",
    "n_steps = int((24 * 3600)/ 60) # Should grab the information from the env_state: t_max / del_t\n",
    "num_conc = np.zeros(n_steps+1)\n",
    "num_conc[0] = aero_state.total_num_conc\n",
    "mass_conc = np.zeros(n_steps+1)\n",
    "mass_conc[0] = aero_state.total_mass_conc\n",
    "oc = np.zeros(n_steps+1)\n",
    "bc = np.zeros(n_steps+1)\n",
    "so4 = np.zeros(n_steps+1)\n",
    "for i_time in range(1,n_steps+1):\n",
    "    ppmc.run_part_timestep(\n",
    "        scenario, env_state, aero_data, aero_state,\n",
    "        gas_data, gas_state, run_part_opt, camp_core, photolysis, i_time, t_initial)\n",
    "    num_conc[i_time] = aero_state.total_num_conc\n",
    "    mass_conc[i_time] = aero_state.total_mass_conc"
   ]
  },
  {
   "cell_type": "code",
   "execution_count": null,
   "id": "8e1b89e0",
   "metadata": {},
   "outputs": [],
   "source": [
    "print(num_conc)\n",
    "plt.plot(mass_conc,label='mass conc')\n",
    "plt.ylabel('mass concentration')\n",
    "plt.twinx()\n",
    "plt.plot(num_conc, label='num conc')\n",
    "plt.ylabel('number concentration');"
   ]
  },
  {
   "cell_type": "code",
   "execution_count": null,
   "id": "01e22056-b84f-433e-8de4-d1153bfb2840",
   "metadata": {},
   "outputs": [],
   "source": [
    "num_concs = aero_state.num_concs\n",
    "for i_part in range(aero_state.__len__()):\n",
    "    particle = aero_state.particle(i_part)\n",
    "#    print('SO4 %5.5e LIM1 %5.5e OIN %5.5e OC %5.5e BC %5.5e'\n",
    "#          %(particle.volumes[0] * num_concs[i_part],\n",
    "#            particle.volumes[11] * num_concs[i_part],\n",
    "#            particle.volumes[16] * num_concs[i_part],\n",
    "#            particle.volumes[17] * num_concs[i_part],\n",
    "#            particle.volumes[18] * num_concs[i_part]))"
   ]
  },
  {
   "cell_type": "code",
   "execution_count": null,
   "id": "55961e39-b2ec-491f-a23c-42a798f026b3",
   "metadata": {},
   "outputs": [],
   "source": [
    "## Things to add\n",
    "# bin_histogram_2d"
   ]
  },
  {
   "cell_type": "code",
   "execution_count": null,
   "id": "6497a74a",
   "metadata": {},
   "outputs": [],
   "source": [
    "#aero_state_init.copy(aero_state)\n",
    "N_PART = 10000\n",
    "aero_state = ppmc.AeroState(N_PART, aero_data)\n",
    "t_initial = 0.0\n",
    "num_conc_block = np.zeros(25)\n",
    "num_conc_block[0] = aero_state.total_num_conc\n",
    "i_time = 1\n",
    "bin_grid = ppmc.BinGrid(100,'log',1e-9,1e-6)\n",
    "dry_diameters = aero_state.dry_diameters\n",
    "num_concs = aero_state.num_concs\n",
    "dist = ppmc.histogram_1d(bin_grid,dry_diameters,num_concs)\n",
    "plt.plot(bin_grid.centers,dist,label='initial')\n",
    "plt.xscale('log')\n",
    "for i_timeblock in range(1,25):\n",
    "    i_next = i_time + 60\n",
    "    ppmc.run_part_timeblock(\n",
    "     scenario, env_state, aero_data, aero_state,\n",
    "     gas_data, gas_state, run_part_opt, camp_core, photolysis, i_time, i_next, t_initial)\n",
    "    num_conc_block[i_timeblock] = aero_state.total_num_conc\n",
    "    i_time = i_next + 1\n",
    "    #    if (mod(i_time,6)== 0):\n",
    "    dry_diameters = aero_state.dry_diameters\n",
    "    num_concs_temp = aero_state.num_concs\n",
    "    dist = ppmc.histogram_1d(bin_grid,dry_diameters,num_concs_temp)\n",
    "    if (np.mod(i_timeblock - 1 , 6)== 0):\n",
    "        plt.plot(bin_grid.centers,dist,label='hr = %i' %i_timeblock)\n",
    "        plt.xscale('log')\n",
    "plt.legend();"
   ]
  },
  {
   "cell_type": "code",
   "execution_count": null,
   "id": "e0339d42",
   "metadata": {},
   "outputs": [],
   "source": [
    "#N_PART = 1000\n",
    "aero_state = ppmc.AeroState(N_PART, aero_data)\n",
    "#aero_state_init.copy(aero_state)\n",
    "num_conc_run_part = np.zeros(2)\n",
    "num_conc_run_part[0] = aero_state.total_num_conc\n",
    "ppmc.run_part(\n",
    "     scenario, env_state, aero_data, aero_state,\n",
    "     gas_data, gas_state, run_part_opt, camp_core, photolysis)\n",
    "num_conc_run_part[1] = aero_state.total_num_conc"
   ]
  },
  {
   "cell_type": "code",
   "execution_count": null,
   "id": "d6764e18",
   "metadata": {},
   "outputs": [],
   "source": [
    "plt.figure(figsize=(16,10))\n",
    "t = np.linspace(0,24*3600,24*60+1)\n",
    "t_hr = np.linspace(0,24*3600,25)\n",
    "plt.plot(t,num_conc,'.',label='step')\n",
    "plt.plot(t_hr,num_conc_block,'x',label='block')\n",
    "plt.plot([0,24*3600],num_conc_run_part,'r+',label='all')\n",
    "plt.xlabel('time (s)')\n",
    "plt.ylabel('number concentration (# m$^{-3}$)')\n",
    "plt.ylim([0,7e9])\n",
    "#plt.xlim([0,24*3600])\n",
    "plt.legend()\n",
    "plt.xticks(ticks=np.linspace(0,24*3600,7))\n",
    "plt.grid();\n",
    "#plt.savefig('tot_num_conc.pdf')"
   ]
  },
  {
   "cell_type": "code",
   "execution_count": null,
   "id": "9fc7f352",
   "metadata": {},
   "outputs": [],
   "source": [
    "print(num_conc_block[0],num_conc[0],num_conc_run_part[0])\n",
    "print(num_conc_block[-1],num_conc[-1],num_conc_run_part[-1])"
   ]
  },
  {
   "cell_type": "code",
   "execution_count": null,
   "id": "c175009f",
   "metadata": {},
   "outputs": [],
   "source": []
  }
 ],
 "metadata": {
  "kernelspec": {
   "display_name": "Python 3 (ipykernel)",
   "language": "python",
   "name": "python3"
  },
  "language_info": {
   "codemirror_mode": {
    "name": "ipython",
    "version": 3
   },
   "file_extension": ".py",
   "mimetype": "text/x-python",
   "name": "python",
   "nbconvert_exporter": "python",
   "pygments_lexer": "ipython3",
   "version": "3.8.12"
  }
 },
 "nbformat": 4,
 "nbformat_minor": 5
}
