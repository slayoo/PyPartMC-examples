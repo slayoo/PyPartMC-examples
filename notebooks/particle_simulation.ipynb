{
 "cells": [
  {
   "cell_type": "markdown",
   "id": "7968866b-24b8-4ed6-bc13-6035310cb4f5",
   "metadata": {},
   "source": [
    "[![nbviewer](https://raw.githubusercontent.com/jupyter/design/master/logos/Badges/nbviewer_badge.svg)](https://nbviewer.jupyter.org/github/open-atmos/PyPartMC-examples/blob/main/notebooks/particle_simulation.ipynb)   \n",
    "[![Open In Colab](https://colab.research.google.com/assets/colab-badge.svg)](https://colab.research.google.com/github/open-atmos/PyPartMC-examples/blob/main/notebooks/particle_simulation.ipynb)    \n",
    "[![Binder](https://mybinder.org/badge_logo.svg)](https://mybinder.org/v2/gh/open-atmos/PyPartMC-examples.git/main?urlpath=lab/tree/notebooks/particle_simulation.ipynb)"
   ]
  },
  {
   "cell_type": "code",
   "execution_count": 1,
   "id": "159edeb4",
   "metadata": {},
   "outputs": [],
   "source": [
    "# This file is a part of PyPartMC licensed under the GNU General Public License v3\n",
    "# Copyright (C) 2023 University of Illinois Urbana-Champaign\n",
    "# Authors:\n",
    "#  - https://github.com/compdyn/partmc/graphs/contributors\n",
    "#  - https://github.com/open-atmos/PyPartMC/graphs/contributors"
   ]
  },
  {
   "cell_type": "code",
   "execution_count": 2,
   "id": "4f8359c2",
   "metadata": {},
   "outputs": [],
   "source": [
    "import sys\n",
    "if 'google.colab' in sys.modules:\n",
    "    !pip --verbose install PyPartMC"
   ]
  },
  {
   "cell_type": "code",
   "execution_count": 3,
   "id": "b494ea6e",
   "metadata": {},
   "outputs": [],
   "source": [
    "import PyPartMC as ppmc\n",
    "from PyPartMC import si\n",
    "import numpy as np\n",
    "import matplotlib.pyplot as plt\n",
    "import matplotlib"
   ]
  },
  {
   "cell_type": "code",
   "execution_count": 4,
   "id": "df8d1a84",
   "metadata": {},
   "outputs": [],
   "source": [
    "gas_data = ppmc.GasData(\n",
    "    (\"H2SO4\", \"HNO3\", \"HCl\", \"NH3\", \"NO\", \"NO2\")\n",
    ")"
   ]
  },
  {
   "cell_type": "code",
   "execution_count": 5,
   "id": "a2d7bad8",
   "metadata": {},
   "outputs": [],
   "source": [
    "env_state = ppmc.EnvState({\n",
    "        \"rel_humidity\": 0.95,\n",
    "        \"latitude\": 0,\n",
    "        \"longitude\": 0,\n",
    "        \"altitude\": 0 * si.m,\n",
    "        \"start_time\": 81000 * si.s,\n",
    "        \"start_day\": 200\n",
    "        })"
   ]
  },
  {
   "cell_type": "code",
   "execution_count": 6,
   "id": "815283a0",
   "metadata": {},
   "outputs": [],
   "source": [
    "aero_data = ppmc.AeroData((\n",
    "    #         density  ions in soln (1) molecular weight    kappa (1)\n",
    "    #         |                     |   |                   |\n",
    "    {\"SO4\":  [1800 * si.kg/si.m**3, 1,  96.0 * si.g/si.mol, 0.00]},\n",
    "    {\"NO3\":  [1800 * si.kg/si.m**3, 1,  62.0 * si.g/si.mol, 0.00]},\n",
    "    {\"Cl\":   [2200 * si.kg/si.m**3, 1,  35.5 * si.g/si.mol, 0.00]},\n",
    "    {\"NH4\":  [1800 * si.kg/si.m**3, 1,  18.0 * si.g/si.mol, 0.00]},\n",
    "    {\"MSA\":  [1800 * si.kg/si.m**3, 0,  95.0 * si.g/si.mol, 0.53]},\n",
    "    {\"ARO1\": [1400 * si.kg/si.m**3, 0, 150.0 * si.g/si.mol, 0.10]},\n",
    "    {\"ARO2\": [1400 * si.kg/si.m**3, 0, 150.0 * si.g/si.mol, 0.10]},\n",
    "    {\"ALK1\": [1400 * si.kg/si.m**3, 0, 140.0 * si.g/si.mol, 0.10]},\n",
    "    {\"OLE1\": [1400 * si.kg/si.m**3, 0, 140.0 * si.g/si.mol, 0.10]},\n",
    "    {\"API1\": [1400 * si.kg/si.m**3, 0, 184.0 * si.g/si.mol, 0.10]},\n",
    "    {\"API2\": [1400 * si.kg/si.m**3, 0, 184.0 * si.g/si.mol, 0.10]},\n",
    "    {\"LIM1\": [1400 * si.kg/si.m**3, 0, 200.0 * si.g/si.mol, 0.10]},\n",
    "    {\"LIM2\": [1400 * si.kg/si.m**3, 0, 200.0 * si.g/si.mol, 0.10]},\n",
    "    {\"CO3\":  [2600 * si.kg/si.m**3, 1,  60.0 * si.g/si.mol, 0.00]},\n",
    "    {\"Na\":   [2200 * si.kg/si.m**3, 1,  23.0 * si.g/si.mol, 0.00]},\n",
    "    {\"Ca\":   [2600 * si.kg/si.m**3, 1,  40.0 * si.g/si.mol, 0.00]},\n",
    "    {\"OIN\":  [2600 * si.kg/si.m**3, 0,   1.0 * si.g/si.mol, 0.10]},\n",
    "    {\"OC\":   [1400 * si.kg/si.m**3, 0,   1.0 * si.g/si.mol, 0.10]},\n",
    "    {\"BC\":   [1800 * si.kg/si.m**3, 0,   1.0 * si.g/si.mol, 0.00]},\n",
    "    {\"H2O\":  [1000 * si.kg/si.m**3, 0,  18.0 * si.g/si.mol, 0.00]}\n",
    "))"
   ]
  },
  {
   "cell_type": "code",
   "execution_count": 7,
   "id": "eedd8346",
   "metadata": {},
   "outputs": [],
   "source": [
    "gas_state = ppmc.GasState(gas_data)"
   ]
  },
  {
   "cell_type": "code",
   "execution_count": 8,
   "id": "58706963",
   "metadata": {},
   "outputs": [],
   "source": [
    "times = [0 * si.s, 24*3600 * si.s]\n",
    "rates = [1 / si.s, 1 * si.s]\n",
    "null_gas = [{\"time\": times}, {\"rate\": rates}, {}]\n",
    "    \n",
    "AERO_MODE_CTOR_LOG_NORMAL = {\n",
    "        \"test_mode\": {\n",
    "        \"mass_frac\": [{\"OIN\": [.8]},{\"OC\": [.1]}, {\"LIM1\": [.1]}],\n",
    "        \"diam_type\": \"geometric\",\n",
    "        \"mode_type\": \"log_normal\",\n",
    "        \"num_conc\": 1e6 / si.m**3,\n",
    "        \"geom_mean_diam\": .125 * si.um,\n",
    "        \"log10_geom_std_dev\": np.log10(1.6),\n",
    "        }\n",
    "}\n",
    "scenario = ppmc.Scenario(gas_data, aero_data, {\n",
    "        \"temp_profile\": [\n",
    "            {\"time\": times},\n",
    "            {\"temp\": [290 * si.K, 290 * si.K]}\n",
    "        ],\n",
    "        \"pressure_profile\": [\n",
    "            {\"time\": times},\n",
    "            {\"pressure\": [1000 * si.hPa, 1000 * si.hPa]}\n",
    "        ],\n",
    "        \"height_profile\": [\n",
    "            {\"time\": times},\n",
    "            {\"height\": [200 * si.m, 200 * si.m]}\n",
    "        ],\n",
    "        \"gas_emissions\": null_gas,\n",
    "        \"gas_background\": null_gas,\n",
    "        \"aero_emissions\": [\n",
    "            {\"time\": [0 * si.s]},\n",
    "            {\"rate\": [1 / si.s]},\n",
    "            {\"dist\": [AERO_MODE_CTOR_LOG_NORMAL]},\n",
    "        ],\n",
    "        \"aero_background\": [\n",
    "            {\"time\": [0 * si.s]},\n",
    "            {\"rate\": [0e-6 / si.s]},\n",
    "            {\"dist\": [AERO_MODE_CTOR_LOG_NORMAL]},\n",
    "        ],\n",
    "        \"loss_function\": \"none\"\n",
    "    })\n",
    "\n",
    "t_initial = 0.0\n",
    "scenario.init_env_state(env_state, t_initial)"
   ]
  },
  {
   "cell_type": "code",
   "execution_count": 9,
   "id": "28ad8dc0-a23a-440c-b900-4e33bd23d48a",
   "metadata": {},
   "outputs": [],
   "source": [
    "N_PART = 10000\n",
    "aero_state = ppmc.AeroState(N_PART, aero_data)"
   ]
  },
  {
   "cell_type": "code",
   "execution_count": 10,
   "id": "d8d9c8fd",
   "metadata": {},
   "outputs": [],
   "source": [
    "run_part_opt = ppmc.RunPartOpt({\n",
    "    \"do_coagulation\": True,\n",
    "    \"coag_kernel\": \"brown\",\n",
    "    \"do_parallel\": False,\n",
    "    \"do_nucleation\": False,\n",
    "    \"do_camp_chem\": False,\n",
    "    \"do_condensation\": False,\n",
    "    \"t_max\": 86400 * si.s,\n",
    "    \"del_t\": 60 * si.s,\n",
    "    \"t_output\": 0,\n",
    "    \"t_progress\": 0,\n",
    "    \"allow_halving\": True,\n",
    "    \"allow_doubling\": True,\n",
    "})"
   ]
  },
  {
   "cell_type": "code",
   "execution_count": 11,
   "id": "5c8aef2b",
   "metadata": {},
   "outputs": [],
   "source": [
    "camp_core = ppmc.CampCore()\n",
    "photolysis = ppmc.Photolysis()"
   ]
  },
  {
   "cell_type": "code",
   "execution_count": 12,
   "id": "0f7c29fe",
   "metadata": {},
   "outputs": [],
   "source": [
    "n_steps = int((24 * 3600)/ 60) # Should grab the information from the env_state: t_max / del_t\n",
    "num_conc = np.zeros(n_steps+1)\n",
    "num_conc[0] = aero_state.total_num_conc\n",
    "mass_conc = np.zeros(n_steps+1)\n",
    "mass_conc[0] = aero_state.total_mass_conc\n",
    "time = np.zeros(n_steps+1)\n",
    "\n",
    "for i_time in range(1,n_steps+1):\n",
    "    ppmc.run_part_timestep(\n",
    "        scenario, env_state, aero_data, aero_state,\n",
    "        gas_data, gas_state, run_part_opt, camp_core, photolysis, i_time, t_initial)\n",
    "    num_conc[i_time] = aero_state.total_num_conc\n",
    "    mass_conc[i_time] = aero_state.total_mass_conc\n",
    "    time[i_time] = env_state.elapsed_time"
   ]
  },
  {
   "cell_type": "code",
   "execution_count": 13,
   "id": "8e1b89e0",
   "metadata": {},
   "outputs": [
    {
     "data": {
      "image/png": "[encoded data removed]",
      "text/plain": [
       "<Figure size 432x288 with 2 Axes>"
      ]
     },
     "metadata": {
      "needs_background": "light"
     },
     "output_type": "display_data"
    }
   ],
   "source": [
    "plt.plot(time,mass_conc,'b',label='mass conc')\n",
    "plt.ylabel('mass concentration')\n",
    "plt.xlabel('time (s)')\n",
    "plt.twinx()\n",
    "plt.plot(time,num_conc, 'g',label='num conc')\n",
    "plt.ylabel('number concentration');"
   ]
  },
  {
   "cell_type": "code",
   "execution_count": 17,
   "id": "faa1de28",
   "metadata": {},
   "outputs": [
    {
     "data": {
      "image/png": "[encoded data removed]",
      "text/plain": [
       "<Figure size 432x288 with 1 Axes>"
      ]
     },
     "metadata": {
      "needs_background": "light"
     },
     "output_type": "display_data"
    }
   ],
   "source": [
    "diam_grid = ppmc.BinGrid(60,'log',1e-9,1e-6)\n",
    "dry_diameters = aero_state.dry_diameters\n",
    "num_concs = aero_state.num_concs\n",
    "dist = ppmc.histogram_1d(diam_grid,dry_diameters,num_concs)\n",
    "plt.plot(diam_grid.centers,dist)\n",
    "plt.xscale('log')\n",
    "plt.xlabel('dry diameter (m)')\n",
    "plt.ylim(bottom=0);"
   ]
  },
  {
   "cell_type": "code",
   "execution_count": 18,
   "id": "7015860b",
   "metadata": {},
   "outputs": [],
   "source": [
    "species = \"BC\"\n",
    "mass_frac_grid = ppmc.BinGrid(100,'linear',0,1)\n",
    "mass_frac_histogram = []\n",
    "num_concs = aero_state.num_concs\n",
    "dry_diameters = aero_state.dry_diameters\n",
    "species_mass_frac = np.zeros(aero_state.__len__())\n",
    "species_index = aero_data.spec_by_name(species)\n",
    "for i_part in range(aero_state.__len__()):\n",
    "    particle = aero_state.particle(i_part)\n",
    "    masses = particle.species_masses\n",
    "    species_mass_frac[i_part] = masses[species_index] / np.sum(masses[0:19])\n",
    "vals = ppmc.histogram_2d(diam_grid,dry_diameters,mass_frac_grid,species_mass_frac,num_concs)"
   ]
  },
  {
   "cell_type": "code",
   "execution_count": 19,
   "id": "07fabfba",
   "metadata": {},
   "outputs": [
    {
     "data": {
      "image/png": "[encoded data removed]",
      "text/plain": [
       "<Figure size 432x288 with 2 Axes>"
      ]
     },
     "metadata": {
      "needs_background": "light"
     },
     "output_type": "display_data"
    }
   ],
   "source": [
    "plt.pcolormesh(diam_grid.edges,mass_frac_grid.edges,np.array(vals).T/1e6,norm=matplotlib.colors.LogNorm())\n",
    "plt.xscale('log')\n",
    "plt.xlim([1e-9,1e-6])\n",
    "plt.colorbar(label='Number concentration (# cm$^{-3}$)')\n",
    "plt.xlabel('Dry diameter (m)')\n",
    "plt.ylabel('OC mass fraction')\n",
    "plt.grid();"
   ]
  },
  {
   "cell_type": "code",
   "execution_count": null,
   "id": "35fbce34",
   "metadata": {},
   "outputs": [],
   "source": []
  },
  {
   "cell_type": "code",
   "execution_count": null,
   "id": "6a9a18a3",
   "metadata": {},
   "outputs": [],
   "source": []
  }
 ],
 "metadata": {
  "kernelspec": {
   "display_name": "Python 3 (ipykernel)",
   "language": "python",
   "name": "python3"
  },
  "language_info": {
   "codemirror_mode": {
    "name": "ipython",
    "version": 3
   },
   "file_extension": ".py",
   "mimetype": "text/x-python",
   "name": "python",
   "nbconvert_exporter": "python",
   "pygments_lexer": "ipython3",
   "version": "3.8.12"
  }
 },
 "nbformat": 4,
 "nbformat_minor": 5
}
