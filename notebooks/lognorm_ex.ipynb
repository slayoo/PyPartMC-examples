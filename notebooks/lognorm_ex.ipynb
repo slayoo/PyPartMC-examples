{
 "cells": [
  {
   "cell_type": "markdown",
   "id": "44181c41",
   "metadata": {},
   "source": [
    "[![nbviewer](https://raw.githubusercontent.com/jupyter/design/master/logos/Badges/nbviewer_badge.svg)](https://nbviewer.jupyter.org/github/open-atmos/PyPartMC-examples/blob/main/notebooks/lognorm_ex.ipynb)   \n",
    "[![Open In Colab](https://colab.research.google.com/assets/colab-badge.svg)](https://colab.research.google.com/github/open-atmos/PyPartMC-examples/blob/main/notebooks/lognorm_ex.ipynb)    \n",
    "[![Binder](https://mybinder.org/badge_logo.svg)](https://mybinder.org/v2/gh/open-atmos/PyPartMC-examples.git/main?urlpath=lab/tree/notebooks/lognorm_ex.ipynb)"
   ]
  },
  {
   "cell_type": "code",
   "execution_count": 52,
   "id": "a19b8c92",
   "metadata": {},
   "outputs": [],
   "source": [
    "# This file is a part of PyPartMC licensed under the GNU General Public License v3\n",
    "# Copyright (C) 2022 University of Illinois Urbana-Champaign\n",
    "# Authors: https://github.com/open-atmos/PyPartMC-examples/graphs/contributors"
   ]
  },
  {
   "cell_type": "code",
   "execution_count": 53,
   "id": "e3542759",
   "metadata": {},
   "outputs": [],
   "source": [
    "#TODOS: why is 2 needed, why PartMC gives wet diameters less than dry for low kappas"
   ]
  },
  {
   "cell_type": "code",
   "execution_count": 54,
   "id": "7c55b23d",
   "metadata": {},
   "outputs": [],
   "source": [
    "import sys\n",
    "if 'google.colab' in sys.modules:\n",
    "    !pip --quiet install PyPartMC atmos_cloud_sim_uj_utils PySDM"
   ]
  },
  {
   "cell_type": "code",
   "execution_count": 55,
   "id": "4dcc3eae",
   "metadata": {},
   "outputs": [],
   "source": [
    "from collections import namedtuple\n",
    "import ipywidgets as widgets\n",
    "import numpy as np\n",
    "import PyPartMC as ppmc\n",
    "from PySDM.environments import Box\n",
    "from PySDM import Builder\n",
    "from PySDM.backends import CPU\n",
    "from PySDM.initialisation import equilibrate_wet_radii\n",
    "from matplotlib import pyplot\n",
    "from IPython.display import display, clear_output\n",
    "from PyPartMC import si\n",
    "from atmos_cloud_sim_uj_utils import show_plot"
   ]
  },
  {
   "cell_type": "code",
   "execution_count": 56,
   "id": "9eec9565",
   "metadata": {},
   "outputs": [],
   "source": [
    "sliders = {\n",
    "    'n_part': {\n",
    "        'widget': widgets.IntSlider(min=8, max=128, value=64),\n",
    "        'label': 'Number of Computational Particles [#]'\n",
    "    },\n",
    "    'temp': {\n",
    "        'widget': widgets.FloatSlider(min=250, max=350),\n",
    "        'label': 'Temperature [K]'\n",
    "    },\n",
    "    'RH_percent': {\n",
    "        'widget': widgets.FloatSlider(min=0, max=100.0, value=55, readout_format='.1f'),\n",
    "        'label': 'Relative Humidity [%]'\n",
    "    },\n",
    "    'kappa': {\n",
    "        'widget': widgets.FloatSlider(min=0, max=2, value=1),\n",
    "        'label': 'Kappa []'\n",
    "    },\n",
    "    'mode_1_n_per_cc': {\n",
    "        'widget': widgets.IntSlider(min=0, max=100000, value=50000),\n",
    "        'label': 'Mode 1 Number [#/cc]'\n",
    "    },\n",
    "    'mode_1_gsd': {\n",
    "        'widget': widgets.FloatSlider(min=1.1, max=5, value=1.3),\n",
    "        'label' : 'Mode 1 Geometric Standard Deviation'\n",
    "    },\n",
    "    'mode_1_gm_microns': {\n",
    "        'widget': widgets.FloatSlider(min=0.001, max=10, value=0.9, readout_format='.3f'),\n",
    "        'label': 'Mode 1 Geometric Mean Diameter [microns]'\n",
    "    },\n",
    "    'mode_2_n_per_cc' : {\n",
    "        'widget': widgets.IntSlider(min=0, max=100000, value=80000),\n",
    "        'label': 'Mode 2 Number [#/cc]'\n",
    "    },\n",
    "    'mode_2_gsd': {\n",
    "        'widget': widgets.FloatSlider(min=1.1, max=5, value=2),\n",
    "        'label': 'Mode 2 Geometric Standard Deviation'\n",
    "    },\n",
    "    'mode_2_gm_microns': {\n",
    "        'widget': widgets.FloatSlider(min=0.001, max=10, value=5.8, readout_format='.3f'),\n",
    "        'label':'Mode 2 Geometric Mean Diameter [microns]'\n",
    "    }\n",
    "}"
   ]
  },
  {
   "cell_type": "code",
   "execution_count": 57,
   "id": "b29d74e2",
   "metadata": {},
   "outputs": [],
   "source": [
    "linestyles = {\n",
    "    'PyPartMC': 'dashed',\n",
    "    'PySDM': 'solid'\n",
    "}"
   ]
  },
  {
   "cell_type": "code",
   "execution_count": 58,
   "id": "54097605",
   "metadata": {},
   "outputs": [],
   "source": [
    "def lognormal(diam, num, geom_mean, geom_stdev):\n",
    "    return diam * (\n",
    "        (num / (np.sqrt(2*np.pi)*diam*np.log(geom_stdev))) *\n",
    "        np.exp(-(np.log(diam) - np.log(geom_mean))** 2 / (2*np.log(geom_stdev)** 2))\n",
    "    )"
   ]
  },
  {
   "cell_type": "code",
   "execution_count": 59,
   "id": "9af4df17",
   "metadata": {},
   "outputs": [],
   "source": [
    "def pypartmc(dry_diameters, temp, rel_humid, kappa):\n",
    "    env_state = ppmc.EnvState({\n",
    "        'rel_humidity': rel_humid,\n",
    "        'latitude': 0.,\n",
    "        'longitude': 0.,\n",
    "        'altitude': 0.,\n",
    "        'start_time': 0.,\n",
    "        'start_day': 0\n",
    "    })\n",
    "    \n",
    "    env_state.set_temperature(temp)\n",
    "    \n",
    "    composition = (\n",
    "        {\"H2O\": [1000 * si.kg / si.m**3, 0, 18e-3 * si.kg / si.mol, 0]},\n",
    "        {\"XXX\": [np.nan * si.kg / si.m**3, 0, np.nan * si.kg / si.mol, kappa]}\n",
    "    )\n",
    "    \n",
    "    aero_data = ppmc.AeroData(composition)\n",
    "    \n",
    "    dry_volumes = (np.pi / 6) * dry_diameters**3\n",
    "    aero_particles = [ppmc.AeroParticle(aero_data, np.array([0, 2])*volume) for volume in dry_volumes]\n",
    "\n",
    "    for aero_particle in aero_particles:\n",
    "        ppmc.condense_equilib_particle(env_state, aero_data, aero_particle)\n",
    "\n",
    "    wet_volumes = [particle.volumes[0] for particle in aero_particles]\n",
    "    wet_diameters = ((6 / np.pi) * np.asarray(wet_volumes))**(1/3)\n",
    "    \n",
    "    return wet_diameters"
   ]
  },
  {
   "cell_type": "code",
   "execution_count": 60,
   "id": "4d9881b4",
   "metadata": {},
   "outputs": [],
   "source": [
    "def pysdm(dry_diameters, temp, rel_humid, kappa):\n",
    "    r_dry = dry_diameters / 2\n",
    "    builder = Builder(n_sd=0, backend=CPU())\n",
    "    environment = Box(dt=np.nan, dv=np.nan)\n",
    "    environment.register(builder)\n",
    "    environment['T'] = temp\n",
    "    environment['RH'] = rel_humid\n",
    "    kappa_times_dry_volume = kappa * (np.pi / 6) * dry_diameters**3\n",
    "    return 2 * equilibrate_wet_radii(\n",
    "        r_dry=r_dry,\n",
    "        environment=environment,\n",
    "        kappa_times_dry_volume=kappa_times_dry_volume\n",
    "    )"
   ]
  },
  {
   "cell_type": "code",
   "execution_count": 61,
   "id": "ee131ad8",
   "metadata": {},
   "outputs": [],
   "source": [
    "models = {\n",
    "    'PyPartMC': pypartmc,\n",
    "    'PySDM': pysdm\n",
    "}"
   ]
  },
  {
   "cell_type": "code",
   "execution_count": 62,
   "id": "56fd1c71",
   "metadata": {},
   "outputs": [
    {
     "data": {
      "application/vnd.jupyter.widget-view+json": {
       "model_id": "67b16b4f7d61417187c15b00c582cba9",
       "version_major": 2,
       "version_minor": 0
      },
      "text/plain": [
       "HBox(children=(Label(value='Number of Computational Particles [#]:'), IntSlider(value=64, max=128, min=8)))"
      ]
     },
     "metadata": {},
     "output_type": "display_data"
    },
    {
     "data": {
      "application/vnd.jupyter.widget-view+json": {
       "model_id": "b54949c18f014c209f339ddf4a6472c9",
       "version_major": 2,
       "version_minor": 0
      },
      "text/plain": [
       "HBox(children=(Label(value='Temperature [K]:'), FloatSlider(value=250.0, max=350.0, min=250.0)))"
      ]
     },
     "metadata": {},
     "output_type": "display_data"
    },
    {
     "data": {
      "application/vnd.jupyter.widget-view+json": {
       "model_id": "072bc570024f44d98cab71cec4b55d59",
       "version_major": 2,
       "version_minor": 0
      },
      "text/plain": [
       "HBox(children=(Label(value='Relative Humidity [%]:'), FloatSlider(value=55.0, readout_format='.1f')))"
      ]
     },
     "metadata": {},
     "output_type": "display_data"
    },
    {
     "data": {
      "application/vnd.jupyter.widget-view+json": {
       "model_id": "52576ad8642046969194d9b3114000f7",
       "version_major": 2,
       "version_minor": 0
      },
      "text/plain": [
       "HBox(children=(Label(value='Kappa []:'), FloatSlider(value=1.0, max=2.0)))"
      ]
     },
     "metadata": {},
     "output_type": "display_data"
    },
    {
     "data": {
      "application/vnd.jupyter.widget-view+json": {
       "model_id": "acf3eea53b18433e8ef10e60a4bee43c",
       "version_major": 2,
       "version_minor": 0
      },
      "text/plain": [
       "HBox(children=(Label(value='Mode 1 Number [#/cc]:'), IntSlider(value=50000, max=100000)))"
      ]
     },
     "metadata": {},
     "output_type": "display_data"
    },
    {
     "data": {
      "application/vnd.jupyter.widget-view+json": {
       "model_id": "a9a4f5127e3f47689f748825e07774cc",
       "version_major": 2,
       "version_minor": 0
      },
      "text/plain": [
       "HBox(children=(Label(value='Mode 1 Geometric Standard Deviation:'), FloatSlider(value=1.3, max=5.0, min=1.1)))"
      ]
     },
     "metadata": {},
     "output_type": "display_data"
    },
    {
     "data": {
      "application/vnd.jupyter.widget-view+json": {
       "model_id": "4867e72825ce465ab64a2857e5367058",
       "version_major": 2,
       "version_minor": 0
      },
      "text/plain": [
       "HBox(children=(Label(value='Mode 1 Geometric Mean Diameter [microns]:'), FloatSlider(value=0.9, max=10.0, min=…"
      ]
     },
     "metadata": {},
     "output_type": "display_data"
    },
    {
     "data": {
      "application/vnd.jupyter.widget-view+json": {
       "model_id": "c06a3f21e55045979a57093dd5a7bd29",
       "version_major": 2,
       "version_minor": 0
      },
      "text/plain": [
       "HBox(children=(Label(value='Mode 2 Number [#/cc]:'), IntSlider(value=80000, max=100000)))"
      ]
     },
     "metadata": {},
     "output_type": "display_data"
    },
    {
     "data": {
      "application/vnd.jupyter.widget-view+json": {
       "model_id": "73a632fb19e744d5b352cd56f15afa4c",
       "version_major": 2,
       "version_minor": 0
      },
      "text/plain": [
       "HBox(children=(Label(value='Mode 2 Geometric Standard Deviation:'), FloatSlider(value=2.0, max=5.0, min=1.1)))"
      ]
     },
     "metadata": {},
     "output_type": "display_data"
    },
    {
     "data": {
      "application/vnd.jupyter.widget-view+json": {
       "model_id": "dc0b6b547a5f453bbc250d98f1f7d25c",
       "version_major": 2,
       "version_minor": 0
      },
      "text/plain": [
       "HBox(children=(Label(value='Mode 2 Geometric Mean Diameter [microns]:'), FloatSlider(value=5.8, max=10.0, min=…"
      ]
     },
     "metadata": {},
     "output_type": "display_data"
    },
    {
     "data": {
      "application/vnd.jupyter.widget-view+json": {
       "model_id": "21b20cb3efc242338225c48c16b0b49f",
       "version_major": 2,
       "version_minor": 0
      },
      "text/plain": [
       "Button(description='Calculate', style=ButtonStyle())"
      ]
     },
     "metadata": {},
     "output_type": "display_data"
    },
    {
     "data": {
      "application/vnd.jupyter.widget-view+json": {
       "model_id": "124dd5d6b7694a678ea1e8a8fbdf87d8",
       "version_major": 2,
       "version_minor": 0
      },
      "text/plain": [
       "Output()"
      ]
     },
     "metadata": {},
     "output_type": "display_data"
    }
   ],
   "source": [
    "def ln_norm():\n",
    "    Mode = namedtuple(\"Mode\", (\"norm_factor\", \"geom_mean\", \"geom_stdev\"))\n",
    "    modes = (\n",
    "        Mode(\n",
    "            norm_factor=sliders['mode_1_n_per_cc']['widget'].value/si.cm**3,\n",
    "            geom_mean=sliders['mode_1_gm_microns']['widget'].value*si.um,\n",
    "            geom_stdev=sliders['mode_1_gsd']['widget'].value\n",
    "        ),\n",
    "        Mode(\n",
    "            norm_factor=sliders['mode_2_n_per_cc']['widget'].value/si.cm**3,\n",
    "            geom_mean=sliders['mode_2_gm_microns']['widget'].value*si.um,\n",
    "            geom_stdev=sliders['mode_2_gsd']['widget'].value\n",
    "        )\n",
    "    )\n",
    "    \n",
    "    with output:\n",
    "        clear_output(wait=True)\n",
    "        \n",
    "        fig = pyplot.figure()\n",
    "        \n",
    "        fig.add_subplot(xscale='log')\n",
    "        x_unit = si.um\n",
    "        y_unit = 1/si.cm**3\n",
    "        \n",
    "        dry_diameters = np.logspace(-0.5, 1.5, sliders['n_part']['widget'].value) * si.um\n",
    "        \n",
    "        y_sum = np.zeros_like(dry_diameters)\n",
    "        for mode in modes:\n",
    "            y_sum += lognormal(dry_diameters, *mode)/y_unit\n",
    "            \n",
    "        pyplot.plot(dry_diameters/x_unit, y_sum, label=\"(dry)\", linewidth=3)\n",
    "        \n",
    "        for model, func in models.items():\n",
    "        \n",
    "            wet_diameters = func(\n",
    "                dry_diameters,\n",
    "                temp = sliders['temp']['widget'].value,\n",
    "                rel_humid = sliders['RH_percent']['widget'].value / 100,\n",
    "                kappa = sliders['kappa']['widget'].value\n",
    "            )\n",
    "            pyplot.plot(wet_diameters/x_unit, y_sum, label=f\"(wet) Model={model}\", linestyle=linestyles[model], marker='.')\n",
    "        \n",
    "        pyplot.xlabel('Diameter, $D_p$ [$\\mu m$]')\n",
    "        pyplot.ylabel('$dN/dlnD_p$ [$cm^{-3}$]')\n",
    "        pyplot.grid()\n",
    "        pyplot.legend()\n",
    "        show_plot(\"spectrum.pdf\")\n",
    "\n",
    "def on_button_clicked(_):\n",
    "    ln_norm()\n",
    "\n",
    "for slider in sliders.values():\n",
    "    hbox = widgets.HBox([widgets.Label(value=slider['label']+':'), slider['widget']])\n",
    "    display(hbox)\n",
    "    \n",
    "button = widgets.Button(description='Calculate')\n",
    "output = widgets.Output()\n",
    "display(button, output)\n",
    "button.on_click(on_button_clicked)\n",
    "button.click()"
   ]
  },
  {
   "cell_type": "code",
   "execution_count": null,
   "id": "0527a2af",
   "metadata": {},
   "outputs": [],
   "source": []
  }
 ],
 "metadata": {
  "kernelspec": {
   "display_name": "Python 3 (ipykernel)",
   "language": "python",
   "name": "python3"
  },
  "language_info": {
   "codemirror_mode": {
    "name": "ipython",
    "version": 3
   },
   "file_extension": ".py",
   "mimetype": "text/x-python",
   "name": "python",
   "nbconvert_exporter": "python",
   "pygments_lexer": "ipython3",
   "version": "3.9.13"
  },
  "vscode": {
   "interpreter": {
    "hash": "aee8b7b246df8f9039afb4144a1f6fd8d2ca17a180786b69acc140d282b71a49"
   }
  }
 },
 "nbformat": 4,
 "nbformat_minor": 5
}
